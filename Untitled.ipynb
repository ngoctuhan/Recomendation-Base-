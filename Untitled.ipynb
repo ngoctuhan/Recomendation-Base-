{
 "cells": [
  {
   "cell_type": "code",
   "execution_count": 5,
   "metadata": {},
   "outputs": [
    {
     "name": "stdout",
     "output_type": "stream",
     "text": [
      "10\n"
     ]
    }
   ],
   "source": [
    "docA = \"the quick brown fox jumps over the lazy dog and\"\n",
    "docB = \"never jump over the lazy dog quickly\"\n",
    "\n",
    "bowA = docA.split(\" \")\n",
    "bowB = docB.split(\" \")\n",
    "\n",
    "#Create dictionary\n",
    "word_dict = set(bowA).union(set(bowB))\n",
    "\n",
    "wordDictA = dict.fromkeys(word_dict, 0)\n",
    "wordDictB = dict.fromkeys(word_dict, 0)\n",
    "\n",
    "#count the word in bads\n",
    "for word in bowA:\n",
    "    wordDictA[word]+=1\n",
    "\n",
    "for word in bowB:\n",
    "    wordDictB[word]+=1\n",
    "    \n",
    "# wordDictA\n",
    "print(len(bowA))"
   ]
  },
  {
   "cell_type": "code",
   "execution_count": 8,
   "metadata": {},
   "outputs": [
    {
     "name": "stdout",
     "output_type": "stream",
     "text": [
      "10\n",
      "7\n"
     ]
    },
    {
     "data": {
      "text/plain": [
       "{'jumps': 0.0,\n",
       " 'brown': 0.0,\n",
       " 'and': 0.0,\n",
       " 'never': 0.14285714285714285,\n",
       " 'fox': 0.0,\n",
       " 'lazy': 0.14285714285714285,\n",
       " 'dog': 0.14285714285714285,\n",
       " 'quickly': 0.14285714285714285,\n",
       " 'over': 0.14285714285714285,\n",
       " 'jump': 0.14285714285714285,\n",
       " 'quick': 0.0,\n",
       " 'the': 0.14285714285714285}"
      ]
     },
     "execution_count": 8,
     "metadata": {},
     "output_type": "execute_result"
    }
   ],
   "source": [
    "def compute_TF(word_dict, bow):\n",
    "    tf_dict = {}\n",
    "    bow_count = len(bow)\n",
    "#     print(bow_count)\n",
    "    for word, count in word_dict.items():\n",
    "        tf_dict[word] = count/float(bow_count)\n",
    "    \n",
    "    return tf_dict    \n",
    "    \n",
    "tf_bowA = compute_TF(wordDictA, bowA)\n",
    "tf_bowB = compute_TF(wordDictB, bowB)\n",
    "tf_bowB"
   ]
  },
  {
   "cell_type": "code",
   "execution_count": 16,
   "metadata": {},
   "outputs": [],
   "source": [
    "def compute_IDF(doc_list):\n",
    "    import math\n",
    "    idf_dict = {}\n",
    "    N = len(doc_list)\n",
    "    print(N)\n",
    "    #count number of documents that contain this word\n",
    "    idf_dict = dict.fromkeys(doc_list[0].keys(), 0)\n",
    "    for doc in doc_list:\n",
    "        for word, count in doc.items():\n",
    "            if count > 0:\n",
    "                idf_dict[word] += 1\n",
    "                \n",
    "    for word, count in idf_dict.items():\n",
    "        idf_dict[word] = math.log(N/float(count))\n",
    "        \n",
    "    return idf_dict"
   ]
  },
  {
   "cell_type": "code",
   "execution_count": 17,
   "metadata": {},
   "outputs": [
    {
     "name": "stdout",
     "output_type": "stream",
     "text": [
      "2\n"
     ]
    },
    {
     "data": {
      "text/plain": [
       "{'jumps': 2.0,\n",
       " 'brown': 2.0,\n",
       " 'and': 2.0,\n",
       " 'never': 2.0,\n",
       " 'fox': 2.0,\n",
       " 'lazy': 1.0,\n",
       " 'dog': 1.0,\n",
       " 'quickly': 2.0,\n",
       " 'over': 1.0,\n",
       " 'jump': 2.0,\n",
       " 'quick': 2.0,\n",
       " 'the': 1.0}"
      ]
     },
     "execution_count": 17,
     "metadata": {},
     "output_type": "execute_result"
    }
   ],
   "source": [
    "idfs = compute_IDF([wordDictA, wordDictB])\n",
    "idfs"
   ]
  },
  {
   "cell_type": "code",
   "execution_count": null,
   "metadata": {},
   "outputs": [],
   "source": []
  }
 ],
 "metadata": {
  "kernelspec": {
   "display_name": "Python 3",
   "language": "python",
   "name": "python3"
  },
  "language_info": {
   "codemirror_mode": {
    "name": "ipython",
    "version": 3
   },
   "file_extension": ".py",
   "mimetype": "text/x-python",
   "name": "python",
   "nbconvert_exporter": "python",
   "pygments_lexer": "ipython3",
   "version": "3.7.4"
  }
 },
 "nbformat": 4,
 "nbformat_minor": 4
}
